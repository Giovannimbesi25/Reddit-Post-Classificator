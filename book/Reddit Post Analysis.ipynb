{
 "cells": [
  {
   "cell_type": "markdown",
   "id": "13a7d0e0",
   "metadata": {
    "slideshow": {
     "slide_type": "slide"
    }
   },
   "source": [
    "<center>\n",
    "    <h1> Reddit Classificator </h1>\n",
    "</center>\n",
    "\n",
    "\n",
    "\n"
   ]
  },
  {
   "cell_type": "markdown",
   "id": "865b5263",
   "metadata": {
    "slideshow": {
     "slide_type": "fragment"
    }
   },
   "source": [
    "<br>\n",
    "<br>\n",
    "<center>\n",
    "<img src=\"images/startgame.jpg\" width=1000 height=500 /> </center>"
   ]
  },
  {
   "cell_type": "markdown",
   "id": "f858e87d",
   "metadata": {
    "slideshow": {
     "slide_type": "subslide"
    }
   },
   "source": [
    "# Abstract"
   ]
  },
  {
   "cell_type": "markdown",
   "id": "2e662c0c",
   "metadata": {
    "slideshow": {
     "slide_type": "fragment"
    }
   },
   "source": [
    "In questo tutorial si vuole costruire un sistema di classificazione real-time che permetta di suddividere i post di reddit, sulla base del contenuto dei loro titoli, in categorie, per poi visualizzarne graficamente i risultati. "
   ]
  },
  {
   "cell_type": "markdown",
   "id": "004231cf",
   "metadata": {
    "slideshow": {
     "slide_type": "slide"
    }
   },
   "source": [
    "# Data flow\n",
    "\n",
    "\n",
    "<center>\n",
    "<img src=\"images/dataFlow.png\" width=1200 height=700 /> </center>\n"
   ]
  },
  {
   "cell_type": "markdown",
   "id": "8a901951",
   "metadata": {
    "slideshow": {
     "slide_type": "subslide"
    }
   },
   "source": []
  }
 ],
 "metadata": {
  "celltoolbar": "Slideshow",
  "kernelspec": {
   "display_name": "Python 3 (ipykernel)",
   "language": "python",
   "name": "python3"
  },
  "language_info": {
   "codemirror_mode": {
    "name": "ipython",
    "version": 3
   },
   "file_extension": ".py",
   "mimetype": "text/x-python",
   "name": "python",
   "nbconvert_exporter": "python",
   "pygments_lexer": "ipython3",
   "version": "3.10.4"
  }
 },
 "nbformat": 4,
 "nbformat_minor": 5
}
